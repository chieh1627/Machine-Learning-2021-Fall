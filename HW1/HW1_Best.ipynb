{
 "cells": [
  {
   "cell_type": "code",
   "execution_count": 1,
   "metadata": {
    "pycharm": {
     "is_executing": true
    }
   },
   "outputs": [],
   "source": [
    "# import package\n",
    "import pandas as pd\n",
    "import numpy as np\n",
    "import csv\n",
    "import matplotlib.pyplot as plt"
   ]
  },
  {
   "cell_type": "code",
   "execution_count": 2,
   "metadata": {},
   "outputs": [],
   "source": [
    "# remove outliers\n",
    "def valid(x, y, index):\n",
    "    if y <= 2 or y > 100:\n",
    "        return False\n",
    "    for i in range(9):\n",
    "        if x[len(index) - 1, i] <= 2 or x[len(index) - 1, i] > 100:\n",
    "            return False\n",
    "    return True"
   ]
  },
  {
   "cell_type": "code",
   "execution_count": 3,
   "metadata": {},
   "outputs": [],
   "source": [
    "# Split the original data into x_train, y_train.\n",
    "def parse2train(data, index):\n",
    "    x, y = [], []\n",
    "\n",
    "    total_length = data.shape[1] - 9\n",
    "    for i in range(total_length):\n",
    "        x_tmp = data[index, i:i + 9]\n",
    "        y_tmp = data[17, i + 9]\n",
    "        # filter\n",
    "        if valid(x_tmp, y_tmp, index):\n",
    "            x.append(x_tmp.reshape(-1, ))\n",
    "            y.append(y_tmp)\n",
    "    x, y = np.array(x), np.array(y)\n",
    "    return x, y"
   ]
  },
  {
   "cell_type": "code",
   "execution_count": 4,
   "metadata": {},
   "outputs": [],
   "source": [
    "# Split the original data into x_test, y_test.\n",
    "def parse2test(data, index):\n",
    "    x, y = [], []\n",
    "\n",
    "    for i in range(857):\n",
    "        x_tmp = data[index, 9 * i: 9 * i + 9]\n",
    "        x.append(x_tmp.reshape(-1, ))\n",
    "        try:\n",
    "            y_tmp = data[17, 9 * i + 9]\n",
    "        except IndexError:\n",
    "            y_tmp = data[17, 7712]\n",
    "        y.append(y_tmp)\n",
    "    # x 會是一個(n, 18, 9)的陣列， y 則是(n, 1)\n",
    "    x, y = np.array(x), np.array(y)\n",
    "    return x, y"
   ]
  },
  {
   "cell_type": "code",
   "execution_count": 5,
   "metadata": {},
   "outputs": [],
   "source": [
    "# calculate RMSE\n",
    "def RMSE(pred: np.ndarray, real: np.ndarray) -> float:\n",
    "    return np.sqrt(np.square(pred - real).mean())"
   ]
  },
  {
   "cell_type": "code",
   "execution_count": 6,
   "metadata": {},
   "outputs": [],
   "source": [
    "# use Adam to train the model.\n",
    "# https://keras.io/zh/optimizers/\n",
    "def Adam(x, y, epochs):\n",
    "    indexs = np.arange(x.shape[0])\n",
    "    np.random.shuffle(indexs)\n",
    "    x = x[indexs]\n",
    "    y = y[indexs]\n",
    "\n",
    "    epsilon = 1e-6\n",
    "    lr = 0.001\n",
    "\n",
    "    # dimension\n",
    "    dim = x.shape[1]\n",
    "\n",
    "    Lambda = np.array([[17500]] * dim)\n",
    "    beta_1 = np.array([[0.995]] * dim)\n",
    "    beta_2 = np.array([[0.999]] * dim)\n",
    "\n",
    "    # init weight\n",
    "    w = np.zeros(shape=(dim, 1))\n",
    "    m = np.zeros(shape=(dim, 1))\n",
    "    v = np.zeros(shape=(dim, 1))\n",
    "\n",
    "    w_total = []\n",
    "\n",
    "    t = 0\n",
    "    for i in range(epochs):\n",
    "        t += 1\n",
    "        loss = y - np.dot(x, w)\n",
    "\n",
    "        # l1 Regularization\n",
    "        l1 = Lambda * np.sum(np.abs(w))\n",
    "\n",
    "        # l2 Regularization\n",
    "        l2 = Lambda * np.sum(np.square(w))\n",
    "\n",
    "        g = (-2) * np.dot(x.T, loss) + l1 + l2\n",
    "\n",
    "        m = beta_1 * m + (1 - beta_1) * g\n",
    "        v = beta_2 * v + (1 - beta_2) * np.square(g)\n",
    "\n",
    "        m_hat = m / (1 - (beta_1 ** t))\n",
    "        v_hat = v / (1 - (beta_2 ** t))\n",
    "\n",
    "        w = w - (lr * m_hat) / (np.sqrt(v_hat) + epsilon)\n",
    "        \n",
    "        # Record the weight of each training to test the best solution for the test data.\n",
    "        w_total.append(w)\n",
    "\n",
    "    return w_total"
   ]
  },
  {
   "cell_type": "code",
   "execution_count": 7,
   "metadata": {},
   "outputs": [],
   "source": [
    "# Read training data.\n",
    "train_data = pd.read_csv('train.csv')\n",
    "\n",
    "# 把有些數字後面的奇怪符號刪除\n",
    "for col in list(train_data.columns[2:]):\n",
    "    train_data[col] = train_data[col].astype(str).map(lambda x: x.rstrip('x*#A'))\n",
    "\n",
    "train_data = train_data.values.astype(np.float64).T"
   ]
  },
  {
   "cell_type": "code",
   "execution_count": 8,
   "metadata": {},
   "outputs": [],
   "source": [
    "train_data_std = np.std(train_data, axis=1)"
   ]
  },
  {
   "cell_type": "code",
   "execution_count": 9,
   "metadata": {},
   "outputs": [
    {
     "data": {
      "text/plain": [
       "array([  4.69675834,   0.19062838,   0.1966181 ,   0.51993244,\n",
       "         6.98743363,  10.90301757,  12.17922798,  21.1563903 ,\n",
       "       109.26791579,   2.23638201,  11.46494592,   5.35356214,\n",
       "         0.5324092 , 122.50354618, 122.21201063,   0.95785916,\n",
       "         1.98734593, 120.88259088])"
      ]
     },
     "execution_count": 9,
     "metadata": {},
     "output_type": "execute_result"
    }
   ],
   "source": [
    "train_data_std"
   ]
  },
  {
   "cell_type": "code",
   "execution_count": 10,
   "metadata": {},
   "outputs": [
    {
     "data": {
      "text/plain": [
       "(array([ 5,  6,  7,  8, 10, 13, 14, 17], dtype=int64),)"
      ]
     },
     "execution_count": 10,
     "metadata": {},
     "output_type": "execute_result"
    }
   ],
   "source": [
    "np.where(train_data_std > 10)"
   ]
  },
  {
   "cell_type": "code",
   "execution_count": 11,
   "metadata": {},
   "outputs": [],
   "source": [
    "# for std > 10\n",
    "feature_index = [5, 6, 7, 8, 10, 13, 14, 17]"
   ]
  },
  {
   "cell_type": "code",
   "execution_count": 12,
   "metadata": {},
   "outputs": [],
   "source": [
    "# Pre-processing of training datasets.\n",
    "X_train, Y_train = parse2train(train_data, feature_index)\n",
    "\n",
    "X_train = np.concatenate([X_train, np.ones(shape=(X_train.shape[0], 1))], axis=1)\n",
    "Y_train = np.reshape(Y_train, (-1, 1))"
   ]
  },
  {
   "cell_type": "code",
   "execution_count": 13,
   "metadata": {},
   "outputs": [],
   "source": [
    "# train the model.\n",
    "w_total = Adam(X_train, Y_train, epochs=5000)"
   ]
  },
  {
   "cell_type": "code",
   "execution_count": 14,
   "metadata": {},
   "outputs": [],
   "source": [
    "# Read test data.\n",
    "test_data = pd.read_csv('test.csv')\n",
    "\n",
    "test_data = test_data.values.astype(np.float64).T\n",
    "\n",
    "# Pre-processing of test datasets.\n",
    "X_test, Y_test = parse2test(test_data, feature_index)\n",
    "\n",
    "X_test = np.concatenate([X_test, np.ones(shape=(X_test.shape[0], 1))], axis=1)\n",
    "Y_test = np.reshape(Y_test, (-1, 1))"
   ]
  },
  {
   "cell_type": "code",
   "execution_count": 15,
   "metadata": {},
   "outputs": [],
   "source": [
    "# Find the best weights to use on the test datasets.\n",
    "# Preventing over-fitting.\n",
    "rmse_min = 100\n",
    "rmse_total = []\n",
    "t = 0\n",
    "for w in w_total:\n",
    "    t += 1\n",
    "    Y_pred = X_test.dot(w)\n",
    "\n",
    "    rmse = RMSE(Y_pred, Y_test)\n",
    "\n",
    "    rmse_total.append(rmse)\n",
    "\n",
    "    if rmse < rmse_min:\n",
    "        epoch = t\n",
    "        rmse_min = rmse"
   ]
  },
  {
   "cell_type": "code",
   "execution_count": 16,
   "metadata": {},
   "outputs": [
    {
     "name": "stdout",
     "output_type": "stream",
     "text": [
      "2210 6.503841361062664\n"
     ]
    }
   ],
   "source": [
    "# print which epoch is the best rmse.\n",
    "print(epoch, rmse_min)"
   ]
  },
  {
   "cell_type": "code",
   "execution_count": 17,
   "metadata": {},
   "outputs": [
    {
     "data": {
      "image/png": "[encoded data removed]",
      "text/plain": [
       "<Figure size 648x432 with 1 Axes>"
      ]
     },
     "metadata": {
      "needs_background": "light"
     },
     "output_type": "display_data"
    }
   ],
   "source": [
    "x = np.arange(5000)\n",
    "plt.figure(figsize=(9, 6))\n",
    "plt.plot(x, rmse_total, 'b')\n",
    "plt.title('Adam(lr=0.001, Lambda=17500, beta_1=0.995, beta_2=0.999) \\nwith l1+l2 Regularization')\n",
    "plt.xlabel('epochs')\n",
    "plt.ylabel('RMSE')\n",
    "plt.show()"
   ]
  },
  {
   "cell_type": "code",
   "execution_count": 18,
   "metadata": {},
   "outputs": [],
   "source": [
    "# save best weight.\n",
    "np.save(\"best_w.npy\", w_total[epoch])"
   ]
  },
  {
   "cell_type": "code",
   "execution_count": 19,
   "metadata": {},
   "outputs": [],
   "source": [
    "# Export the best prediction results to my_sol.csv.\n",
    "\n",
    "# load best weight.\n",
    "best_w = np.load(\"best_w.npy\")\n",
    "\n",
    "with open('my_sol.csv', 'w', newline='') as csvf:\n",
    "    writer = csv.writer(csvf)\n",
    "    writer.writerow(['Id', 'Predicted'])\n",
    "    Y_pred = X_test.dot(best_w)\n",
    "    for i in range(int(X_test.shape[0])):\n",
    "        writer.writerow([i + 1, float(Y_pred[i])])"
   ]
  }
 ],
 "metadata": {
  "kernelspec": {
   "display_name": "Python 3 (ipykernel)",
   "language": "python",
   "name": "python3"
  },
  "language_info": {
   "codemirror_mode": {
    "name": "ipython",
    "version": 3
   },
   "file_extension": ".py",
   "mimetype": "text/x-python",
   "name": "python",
   "nbconvert_exporter": "python",
   "pygments_lexer": "ipython3",
   "version": "3.8.10"
  }
 },
 "nbformat": 4,
 "nbformat_minor": 1
}
