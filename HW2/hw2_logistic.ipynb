{
 "cells": [
  {
   "cell_type": "code",
   "execution_count": 1,
   "metadata": {},
   "outputs": [],
   "source": [
    "# import package\n",
    "import csv\n",
    "import numpy as np\n",
    "import pandas as pd"
   ]
  },
  {
   "cell_type": "code",
   "execution_count": 2,
   "metadata": {},
   "outputs": [],
   "source": [
    "# num of features.\n",
    "dim = 106"
   ]
  },
  {
   "cell_type": "code",
   "execution_count": 3,
   "metadata": {},
   "outputs": [],
   "source": [
    "# load data from file.\n",
    "def load_data():\n",
    "    x_train = pd.read_csv('X_train')\n",
    "    x_test = pd.read_csv('X_test')\n",
    "\n",
    "    x_train = x_train.values\n",
    "    x_test = x_test.values\n",
    "\n",
    "    y_train = pd.read_csv('Y_train', header=None)\n",
    "    y_train = y_train.values.reshape(-1)\n",
    "    \n",
    "    return x_train, y_train, x_test\n",
    "\n",
    "\n",
    "def sigmoid(z):\n",
    "    # limits output values between [1e-6, 1 - 1e-6]\n",
    "    return np.clip(1 / (1.0 + np.exp(-z)), 1e-6, 1 - 1e-6)\n",
    "\n",
    "\n",
    "def standardize(x_train, x_test):\n",
    "    x_all = np.concatenate((x_train, x_test), axis=0)\n",
    "    mean = np.mean(x_all, axis=0)\n",
    "    std = np.std(x_all, axis=0)\n",
    "\n",
    "    index = [0, 1, 3, 4, 5]\n",
    "    mean_vec = np.zeros(x_all.shape[1])\n",
    "    std_vec = np.ones(x_all.shape[1])\n",
    "    mean_vec[index] = mean[index]\n",
    "    std_vec[index] = std[index]\n",
    "\n",
    "    x_all_nor = (x_all - mean_vec) / std_vec\n",
    "\n",
    "    x_train_nor = x_all_nor[0:x_train.shape[0]]\n",
    "    x_test_nor = x_all_nor[x_train.shape[0]:]\n",
    "\n",
    "    return x_train_nor, x_test_nor"
   ]
  },
  {
   "cell_type": "code",
   "execution_count": 4,
   "metadata": {},
   "outputs": [],
   "source": [
    "def train(x_train, y_train):\n",
    "    lr = 0.01\n",
    "    epoch = 1000\n",
    "\n",
    "    w = np.zeros(x_train.shape[1])\n",
    "\n",
    "    w_lr = np.ones(x_train.shape[1])\n",
    "\n",
    "    adagrad_sum = np.zeros(shape=dim)\n",
    "\n",
    "    for e in range(epoch):\n",
    "        loss = y_train - sigmoid((np.dot(x_train, w)))\n",
    "\n",
    "        g = -np.dot(x_train.T, loss)\n",
    "\n",
    "        adagrad_sum += np.square(g)\n",
    "\n",
    "        w = w - w_lr * lr * g / np.sqrt(adagrad_sum)\n",
    "\n",
    "    return w\n",
    "\n",
    "\n",
    "def predict(x_test, w):\n",
    "    return np.around(sigmoid((np.dot(x_test, w))))"
   ]
  },
  {
   "cell_type": "code",
   "execution_count": 5,
   "metadata": {},
   "outputs": [],
   "source": [
    "# load data.\n",
    "x_train, y_train, x_test = load_data()"
   ]
  },
  {
   "cell_type": "code",
   "execution_count": 6,
   "metadata": {},
   "outputs": [],
   "source": [
    "# standardize data.\n",
    "x_train, x_test = standardize(x_train, x_test)"
   ]
  },
  {
   "cell_type": "code",
   "execution_count": 7,
   "metadata": {},
   "outputs": [],
   "source": [
    "# training the model.\n",
    "w = train(x_train, y_train)"
   ]
  },
  {
   "cell_type": "code",
   "execution_count": 8,
   "metadata": {},
   "outputs": [
    {
     "name": "stdout",
     "output_type": "stream",
     "text": [
      "Train acc = 0.838979\n"
     ]
    }
   ],
   "source": [
    "# show the predict accuracy with train data.\n",
    "y = predict(x_train, w)\n",
    "\n",
    "result = (y_train == y)\n",
    "print('Train acc = %f' % (float(result.sum()) / result.shape[0]))"
   ]
  },
  {
   "cell_type": "code",
   "execution_count": 9,
   "metadata": {},
   "outputs": [],
   "source": [
    "# predict test data.\n",
    "y_pred = predict(x_test, w)"
   ]
  },
  {
   "cell_type": "code",
   "execution_count": 10,
   "metadata": {},
   "outputs": [],
   "source": [
    "with open('logistic.csv', 'w', newline='') as csvf:\n",
    "    # 建立 CSV 檔寫入器\n",
    "    writer = csv.writer(csvf)\n",
    "    writer.writerow(['id', 'label'])\n",
    "    for i in range(int(y_pred.shape[0])):\n",
    "        writer.writerow([i + 1, int(y_pred[i])])"
   ]
  }
 ],
 "metadata": {
  "kernelspec": {
   "display_name": "Python 3 (ipykernel)",
   "language": "python",
   "name": "python3"
  },
  "language_info": {
   "codemirror_mode": {
    "name": "ipython",
    "version": 3
   },
   "file_extension": ".py",
   "mimetype": "text/x-python",
   "name": "python",
   "nbconvert_exporter": "python",
   "pygments_lexer": "ipython3",
   "version": "3.8.10"
  }
 },
 "nbformat": 4,
 "nbformat_minor": 1
}
