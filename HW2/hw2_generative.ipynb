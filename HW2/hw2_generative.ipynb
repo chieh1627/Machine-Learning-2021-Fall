{
 "cells": [
  {
   "cell_type": "code",
   "execution_count": 1,
   "metadata": {},
   "outputs": [],
   "source": [
    "# import package\n",
    "import csv\n",
    "import numpy as np\n",
    "import pandas as pd"
   ]
  },
  {
   "cell_type": "code",
   "execution_count": 2,
   "metadata": {},
   "outputs": [],
   "source": [
    "# num of features.\n",
    "dim = 106"
   ]
  },
  {
   "cell_type": "code",
   "execution_count": 3,
   "metadata": {},
   "outputs": [],
   "source": [
    "# load data from file.\n",
    "def load_data():\n",
    "    x_train = pd.read_csv('X_train')\n",
    "    x_test = pd.read_csv('X_test')\n",
    "\n",
    "    x_train = x_train.values\n",
    "    x_test = x_test.values\n",
    "\n",
    "    y_train = pd.read_csv('Y_train', header=None)\n",
    "    y_train = y_train.values.reshape(-1)\n",
    "    \n",
    "    return x_train, y_train, x_test\n",
    "\n",
    "def sigmoid(z):\n",
    "    # limits output values between [1e-6, 1 - 1e-6]\n",
    "    return np.clip(1 / (1.0 + np.exp(-z)), 1e-6, 1 - 1e-6)"
   ]
  },
  {
   "cell_type": "code",
   "execution_count": 4,
   "metadata": {},
   "outputs": [],
   "source": [
    "def train(x_train, y_train):\n",
    "    # init variable.\n",
    "    cnt1, cnt2 = 0, 0\n",
    "    mu1, mu2 = np.zeros((dim,)), np.zeros((dim,))\n",
    "    sigma1, sigma2 = np.zeros((dim, dim)), np.zeros((dim, dim))\n",
    "\n",
    "    # find the index which y_train == 1.\n",
    "    index1 = np.where([y_train == 1])[1]\n",
    "    # find the index which y_train == 0.\n",
    "    index2 = np.where([y_train == 0])[1]\n",
    "\n",
    "    cnt1, cnt2 = len(index1), len(index2)\n",
    "\n",
    "    for index in index1:\n",
    "        mu1 += x_train[index]\n",
    "\n",
    "    for index in index2:\n",
    "        mu2 += x_train[index]\n",
    "\n",
    "    mu1, mu2 = mu1/cnt1, mu2/cnt2\n",
    "\n",
    "    for index in index1:\n",
    "        sigma1 += np.dot(np.transpose([x_train[index] - mu1]), [(x_train[index] - mu1)])\n",
    "\n",
    "    for index in index2:\n",
    "        sigma2 += np.dot(np.transpose([x_train[index] - mu2]), [(x_train[index] - mu2)])\n",
    "\n",
    "    sigma1, sigma2 = sigma1/cnt1, sigma2/cnt2\n",
    "\n",
    "    share_sigma = (cnt1 / x_train.shape[0]) * sigma1 + (cnt2 / x_train.shape[0]) * sigma2\n",
    "\n",
    "    return mu1, mu2, share_sigma, cnt1, cnt2"
   ]
  },
  {
   "cell_type": "code",
   "execution_count": 5,
   "metadata": {},
   "outputs": [],
   "source": [
    "def predict(x_test, mu1, mu2, share_sigma, N1, N2):\n",
    "    sigma_inverse = np.linalg.inv(share_sigma)\n",
    "\n",
    "    w = np.dot((mu1 - mu2), sigma_inverse)\n",
    "    b = (-0.5) * np.dot(np.dot(mu1.T, sigma_inverse), mu1) + (0.5) * np.dot(np.dot(mu2.T, sigma_inverse), mu2) + np.log(\n",
    "        float(N1) / N2)\n",
    "\n",
    "    z = np.dot(w, x_test.T) + b\n",
    "    pred = sigmoid(z)\n",
    "    \n",
    "    return np.around(pred)"
   ]
  },
  {
   "cell_type": "code",
   "execution_count": 6,
   "metadata": {},
   "outputs": [],
   "source": [
    "# load data.\n",
    "x_train, y_train, x_test = load_data()"
   ]
  },
  {
   "cell_type": "code",
   "execution_count": 7,
   "metadata": {},
   "outputs": [],
   "source": [
    "# training the model.\n",
    "mu1, mu2, shared_sigma, N1, N2 = train(x_train, y_train)"
   ]
  },
  {
   "cell_type": "code",
   "execution_count": 8,
   "metadata": {},
   "outputs": [
    {
     "name": "stdout",
     "output_type": "stream",
     "text": [
      "Train acc = 0.841405\n"
     ]
    }
   ],
   "source": [
    "# show the predict accuracy with train data.\n",
    "y = predict(x_train, mu1, mu2, shared_sigma, N1, N2)\n",
    "\n",
    "result = (y_train == y)\n",
    "print('Train acc = %f' % (float(result.sum()) / result.shape[0]))"
   ]
  },
  {
   "cell_type": "code",
   "execution_count": 9,
   "metadata": {},
   "outputs": [],
   "source": [
    "# predict test data.\n",
    "y_pred = predict(x_test, mu1, mu2, shared_sigma, N1, N2)"
   ]
  },
  {
   "cell_type": "code",
   "execution_count": 10,
   "metadata": {
    "pycharm": {
     "name": "#%%\n"
    }
   },
   "outputs": [],
   "source": [
    "with open('generative.csv', 'w', newline='') as csvf:\n",
    "    # 建立 CSV 檔寫入器\n",
    "    writer = csv.writer(csvf)\n",
    "    writer.writerow(['id', 'label'])\n",
    "    for i in range(int(y_pred.shape[0])):\n",
    "        writer.writerow([i + 1, int(y_pred[i])])"
   ]
  }
 ],
 "metadata": {
  "kernelspec": {
   "display_name": "Python 3 (ipykernel)",
   "language": "python",
   "name": "python3"
  },
  "language_info": {
   "codemirror_mode": {
    "name": "ipython",
    "version": 3
   },
   "file_extension": ".py",
   "mimetype": "text/x-python",
   "name": "python",
   "nbconvert_exporter": "python",
   "pygments_lexer": "ipython3",
   "version": "3.8.10"
  }
 },
 "nbformat": 4,
 "nbformat_minor": 1
}
