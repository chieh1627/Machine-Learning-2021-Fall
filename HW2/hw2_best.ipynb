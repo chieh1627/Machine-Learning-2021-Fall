{
 "cells": [
  {
   "cell_type": "code",
   "execution_count": 1,
   "metadata": {},
   "outputs": [],
   "source": [
    "# import package\n",
    "import csv\n",
    "import numpy as np\n",
    "import pandas as pd\n",
    "from sklearn.ensemble import GradientBoostingClassifier"
   ]
  },
  {
   "cell_type": "code",
   "execution_count": 2,
   "metadata": {},
   "outputs": [],
   "source": [
    "# load data from file.\n",
    "def load_data():\n",
    "    x_train = pd.read_csv('X_train')\n",
    "    x_test = pd.read_csv('X_test')\n",
    "\n",
    "    x_train = x_train.values\n",
    "    x_test = x_test.values\n",
    "\n",
    "    y_train = pd.read_csv('Y_train', header=None)\n",
    "    y_train = y_train.values.reshape(-1)\n",
    "    \n",
    "    return x_train, y_train, x_test\n",
    "\n",
    "# calculate accuracy.\n",
    "def _accuracy(Y_pred, Y_label):\n",
    "    return 1 - np.mean(np.abs(Y_pred - Y_label))"
   ]
  },
  {
   "cell_type": "code",
   "execution_count": 3,
   "metadata": {},
   "outputs": [],
   "source": [
    "# load data from .csv file.\n",
    "X_train, y_train, X_test = load_data()"
   ]
  },
  {
   "cell_type": "code",
   "execution_count": 4,
   "metadata": {},
   "outputs": [],
   "source": [
    "# create model with GradientBoostingClassifier.\n",
    "model = GradientBoostingClassifier(n_estimators=200, learning_rate=0.1, max_depth=5)"
   ]
  },
  {
   "cell_type": "code",
   "execution_count": 5,
   "metadata": {},
   "outputs": [
    {
     "data": {
      "text/plain": [
       "GradientBoostingClassifier(max_depth=5, n_estimators=200)"
      ]
     },
     "execution_count": 5,
     "metadata": {},
     "output_type": "execute_result"
    }
   ],
   "source": [
    "# training model.\n",
    "model.fit(X_train, y_train)"
   ]
  },
  {
   "cell_type": "code",
   "execution_count": 6,
   "metadata": {},
   "outputs": [
    {
     "name": "stdout",
     "output_type": "stream",
     "text": [
      "Train acc： 0.8921409047633673\n"
     ]
    }
   ],
   "source": [
    "# show the predict accuracy with train data.\n",
    "y_train_pred = model.predict(X_train)\n",
    "print('Train acc：', _accuracy(y_train_pred, y_train))"
   ]
  },
  {
   "cell_type": "code",
   "execution_count": 7,
   "metadata": {},
   "outputs": [],
   "source": [
    "# predict test data.\n",
    "y_test_pred = model.predict(X_test)"
   ]
  },
  {
   "cell_type": "code",
   "execution_count": 8,
   "metadata": {},
   "outputs": [],
   "source": [
    "# Write in the predict results to GBC.csv\n",
    "with open('GBC.csv', 'w', newline='') as csvf:\n",
    "    writer = csv.writer(csvf)\n",
    "    writer.writerow(['id', 'label'])\n",
    "    for i in range(int(X_test.shape[0])):\n",
    "        writer.writerow([i + 1, int(y_test_pred[i])])"
   ]
  }
 ],
 "metadata": {
  "kernelspec": {
   "display_name": "Python 3 (ipykernel)",
   "language": "python",
   "name": "python3"
  },
  "language_info": {
   "codemirror_mode": {
    "name": "ipython",
    "version": 3
   },
   "file_extension": ".py",
   "mimetype": "text/x-python",
   "name": "python",
   "nbconvert_exporter": "python",
   "pygments_lexer": "ipython3",
   "version": "3.8.10"
  }
 },
 "nbformat": 4,
 "nbformat_minor": 1
}
